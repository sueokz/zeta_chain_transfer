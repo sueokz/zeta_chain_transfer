{
 "cells": [
  {
   "cell_type": "code",
   "execution_count": 1,
   "id": "e7467c06-0d83-42d7-bc78-33c0769aadb8",
   "metadata": {},
   "outputs": [],
   "source": [
    "#zeta"
   ]
  },
  {
   "cell_type": "code",
   "execution_count": 10,
   "id": "27e8addb-d688-4523-8883-da3140d7989e",
   "metadata": {},
   "outputs": [],
   "source": [
    "from web3 import Web3, HTTPProvider\n",
    "from web3 import EthereumTesterProvider"
   ]
  },
  {
   "cell_type": "code",
   "execution_count": 1,
   "id": "94512a3d-fad6-44c4-a672-258d4c6e43af",
   "metadata": {},
   "outputs": [],
   "source": [
    "wallet_A = ''\n",
    "wallet_B = ''\n",
    "key_A = ''\n",
    "key_B = ''"
   ]
  },
  {
   "cell_type": "code",
   "execution_count": 79,
   "id": "1af1a610-6061-4eb5-976e-86a773db21d2",
   "metadata": {},
   "outputs": [],
   "source": [
    "# RPCの設定\n",
    "RPC_URL = \"https://zetachain-evm.blockpi.network/v1/rpc/public\"\n",
    "web3 = Web3(HTTPProvider(RPC_URL))"
   ]
  },
  {
   "cell_type": "code",
   "execution_count": 80,
   "id": "49a1ef07-0274-4408-92ed-be0b5f1775be",
   "metadata": {},
   "outputs": [
    {
     "name": "stdout",
     "output_type": "stream",
     "text": [
      "True\n",
      "7000\n"
     ]
    }
   ],
   "source": [
    "print(web3.is_connected())\n",
    "\n",
    "#3 チェーンIDの確認\n",
    "print(web3.eth.chain_id) \n",
    "chain=web3.eth.chain_id"
   ]
  },
  {
   "cell_type": "code",
   "execution_count": 84,
   "id": "044bf72a-5189-4323-b92c-b92997f11973",
   "metadata": {},
   "outputs": [
    {
     "name": "stdout",
     "output_type": "stream",
     "text": [
      "0x751b9935e3009f8062a8ecf8a19ce226ae20afcd933f14d5c43dd2560231ed94\n",
      "0xddbb86749de4ff57bbed4bf3f35a58fbd9bf1c36e67da47e4f5b3ca35ef73cfd\n"
     ]
    }
   ],
   "source": [
    "from web3.middleware import geth_poa_middleware\n",
    "\n",
    "def transfer(nonce,id,wallet_recipt):\n",
    "    tx = {\n",
    "        'chainId': id,\n",
    "        'nonce': nonce,\n",
    "        'to': wallet_recipt,\n",
    "        'value': web3.to_wei(0, 'ether'),\n",
    "        \"gasPrice\": web3.eth.gas_price,\n",
    "        'data': '0x'\n",
    "    }\n",
    "    return tx\n",
    "\n",
    "#1つ目のアドレス\n",
    "id = chain\n",
    "wallet_recipt = wallet_B\n",
    "nonce = web3.eth.get_transaction_count(wallet_A)\n",
    "tx = transfer(nonce,id,wallet_recipt)\n",
    "tx[\"gas\"] = int(web3.eth.estimate_gas(tx))\n",
    "\n",
    "\n",
    "signed_tx = web3.eth.account.sign_transaction(tx, key_A)\n",
    "tx_hash = web3.eth.send_raw_transaction(signed_tx.rawTransaction)\n",
    "print(web3.to_hex(tx_hash))\n",
    "\n",
    "\n",
    "#2つ目のアドレス\n",
    "wallet_recipt=wallet_A\n",
    "nonce = web3.eth.get_transaction_count(wallet_B)\n",
    "tx = transfer(nonce,id,wallet_recipt)\n",
    "tx[\"gas\"] = int(web3.eth.estimate_gas(tx))\n",
    "\n",
    "\n",
    "signed_tx = web3.eth.account.sign_transaction(tx, key_B)\n",
    "tx_hash = web3.eth.send_raw_transaction(signed_tx.rawTransaction)\n",
    "print(web3.to_hex(tx_hash))"
   ]
  }
 ],
 "metadata": {
  "kernelspec": {
   "display_name": "Python 3",
   "language": "python",
   "name": "python3"
  },
  "language_info": {
   "codemirror_mode": {
    "name": "ipython",
    "version": 3
   },
   "file_extension": ".py",
   "mimetype": "text/x-python",
   "name": "python",
   "nbconvert_exporter": "python",
   "pygments_lexer": "ipython3",
   "version": "3.8.8"
  }
 },
 "nbformat": 4,
 "nbformat_minor": 5
}
